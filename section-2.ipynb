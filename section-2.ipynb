{
 "metadata": {
  "language_info": {
   "codemirror_mode": {
    "name": "ipython",
    "version": 3
   },
   "file_extension": ".py",
   "mimetype": "text/x-python",
   "name": "python",
   "nbconvert_exporter": "python",
   "pygments_lexer": "ipython3",
   "version": 3
  },
  "orig_nbformat": 2
 },
 "nbformat": 4,
 "nbformat_minor": 2,
 "cells": [
  {
   "source": [
    "## TechStep Academy\n",
    "\n",
    "On the terminal:\n",
    "\n",
    "> from selenium import webdriver\n",
    "\n",
    "> browser = webdriver.Chrome()\n",
    "\n",
    "> browser.get('https://techstepacademy.com/training-ground')\n",
    "\n",
    "<div align=\"center\">\n",
    "<img src=\"images\\browser.png\"  width=\"400\"/>\n",
    "</div>\n",
    "\n"
   ],
   "cell_type": "markdown",
   "metadata": {}
  },
  {
   "cell_type": "code",
   "execution_count": null,
   "metadata": {},
   "outputs": [],
   "source": []
  }
 ]
}