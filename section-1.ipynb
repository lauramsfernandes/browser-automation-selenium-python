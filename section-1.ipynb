{
 "metadata": {
  "language_info": {
   "codemirror_mode": {
    "name": "ipython",
    "version": 3
   },
   "file_extension": ".py",
   "mimetype": "text/x-python",
   "name": "python",
   "nbconvert_exporter": "python",
   "pygments_lexer": "ipython3",
   "version": 3
  },
  "orig_nbformat": 2
 },
 "nbformat": 4,
 "nbformat_minor": 2,
 "cells": [
  {
   "source": [
    "# What is Selenium"
   ],
   "cell_type": "markdown",
   "metadata": {}
  },
  {
   "source": [
    "### How does it work?\n",
    "\n",
    "> Selenium WebDriver: automates browser.\n",
    "\n",
    "> Selenium Grid: automates multiple browsers.\n",
    "\n",
    "> Selenium IDE: UI for recording and playing back things that  you do on the browser.\n"
   ],
   "cell_type": "markdown",
   "metadata": {}
  },
  {
   "source": [
    "### Selenium WebDriver\n",
    "\n",
    "Selenium WebDriver drives a browser natively, as a real user would, either locally or on remote machines.\n",
    "\n",
    "Python itself can't talk to the browser directly, for that he is going to use `Selenium WebDriver` to manipulate the browser. Just think ' Selenium WebDriver' is a piece of logic that sits between Python and the browser, and the `WebDriver` is actually talking to the browser.\n",
    "\n",
    "![Figure 1: Python talks to Selenium WebDriver that talks to Chrome](images\\python-selenium-chrome.png)\n",
    "\n",
    "### WebDriver\n",
    "\n",
    "Each browser has its respective `WebDriver` executable. We need to download it accordingly to the browser we're going to use to navigate websites (e.g. Firefox, Safari, Edge, Chrome, Internet Explorer etc). In this repository, we're going to use `Chrome` and, consequently, `Chrome WebDriver`."
   ],
   "cell_type": "markdown",
   "metadata": {}
  },
  {
   "source": [
    "### Chrome Driver"
   ],
   "cell_type": "markdown",
   "metadata": {}
  },
  {
   "cell_type": "code",
   "execution_count": null,
   "metadata": {},
   "outputs": [],
   "source": []
  }
 ]
}