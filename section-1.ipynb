{
 "metadata": {
  "language_info": {
   "codemirror_mode": {
    "name": "ipython",
    "version": 3
   },
   "file_extension": ".py",
   "mimetype": "text/x-python",
   "name": "python",
   "nbconvert_exporter": "python",
   "pygments_lexer": "ipython3",
   "version": 3
  },
  "orig_nbformat": 2
 },
 "nbformat": 4,
 "nbformat_minor": 2,
 "cells": [
  {
   "source": [
    "## Selenium?\n",
    "\n",
    "### How does it do?\n",
    "\n",
    "> Selenium WebDriver: automates browser.\n",
    "\n",
    "> Selenium Grid: automates multiple browsers.\n",
    "\n",
    "> Selenium IDE: UI for recording and playing back things that  you do on the browser.\n",
    "\n",
    "### Selenium WebDriver\n",
    "\n",
    "In this repository we're going to talk only about `Selenium WebDriver`.\n",
    "\n",
    "`Selenium WebDriver` drives a browser natively, as a real user would, either locally or on remote machines.\n",
    "\n",
    "Python itself can't talk to the browser directly, for that he is going to use `Selenium WebDriver` to manipulate the browser. Just think ' Selenium WebDriver' is a piece of logic that sits between Python and the browser, and the `WebDriver` is actually talking to the browser.\n",
    "\n",
    "<div align=\"center\">\n",
    "<img src=\"images\\python-selenium-chrome.png\"  width=\"500\"/>\n",
    "</div>\n",
    "\n",
    "### WebDriver\n",
    "\n",
    "Each browser has its respective `WebDriver` executable. We need to download it accordingly to the browser we're going to use to navigate websites (e.g. Firefox, Safari, Edge, Chrome, Internet Explorer etc). In this repository, we're going to use `Chrome` and, consequently, `Chrome WebDriver`.\n",
    "\n",
    "## Steps to Setting Up Your Environment\n",
    "\n",
    "I will not go into details, but basically what needs to be done is:\n",
    "\n",
    "1. Install [Python](https://www.python.org/downloads/).\n",
    "2. Create a [Virtual Environment](https://packaging.python.org/guides/installing-using-pip-and-virtual-environments/) and activate it. You can find instruction about how to activate the virtual environment using the previous link.\n",
    "3. Install [`Selenium Library`](https://selenium-python.readthedocs.io/installation.html#downloading-python-bindings-for-selenium).\n",
    "4. Download [`WebDriver`](https://selenium-python.readthedocs.io/installation.html#drivers) corresponding to the Browser you will use.\n",
    "5. Save the PATH to `Web Drive` executable\n"
   ],
   "cell_type": "markdown",
   "metadata": {}
  },
  {
   "source": [
    "\n"
   ],
   "cell_type": "markdown",
   "metadata": {}
  },
  {
   "cell_type": "code",
   "execution_count": null,
   "metadata": {},
   "outputs": [
    {
     "output_type": "error",
     "ename": "Error",
     "evalue": "Jupyter cannot be started. Error attempting to locate jupyter: Data Science libraries jupyter and notebook are not installed in interpreter Python 3.8.6 64-bit.",
     "traceback": [
      "Error: Jupyter cannot be started. Error attempting to locate jupyter: Data Science libraries jupyter and notebook are not installed in interpreter Python 3.8.6 64-bit.",
      "at w.startServer (c:\\Users\\StuDocu\\.vscode\\extensions\\ms-toolsai.jupyter-2020.12.414227025\\out\\client\\extension.js:49:379970)",
      "at processTicksAndRejections (internal/process/task_queues.js:94:5)",
      "at async w.createServer (c:\\Users\\StuDocu\\.vscode\\extensions\\ms-toolsai.jupyter-2020.12.414227025\\out\\client\\extension.js:49:379268)",
      "at async connect (c:\\Users\\StuDocu\\.vscode\\extensions\\ms-toolsai.jupyter-2020.12.414227025\\out\\client\\extension.js:49:504021)",
      "at async f.ensureConnectionAndNotebookImpl (c:\\Users\\StuDocu\\.vscode\\extensions\\ms-toolsai.jupyter-2020.12.414227025\\out\\client\\extension.js:32:590192)",
      "at async f.ensureConnectionAndNotebook (c:\\Users\\StuDocu\\.vscode\\extensions\\ms-toolsai.jupyter-2020.12.414227025\\out\\client\\extension.js:32:588656)",
      "at async f.clearResult (c:\\Users\\StuDocu\\.vscode\\extensions\\ms-toolsai.jupyter-2020.12.414227025\\out\\client\\extension.js:32:584410)",
      "at async f.reexecuteCell (c:\\Users\\StuDocu\\.vscode\\extensions\\ms-toolsai.jupyter-2020.12.414227025\\out\\client\\extension.js:9:171119)",
      "at async f.reexecuteCells (c:\\Users\\StuDocu\\.vscode\\extensions\\ms-toolsai.jupyter-2020.12.414227025\\out\\client\\extension.js:9:167423)"
     ]
    }
   ],
   "source": [
    "import selenium"
   ]
  },
  {
   "cell_type": "code",
   "execution_count": null,
   "metadata": {},
   "outputs": [],
   "source": []
  }
 ]
}